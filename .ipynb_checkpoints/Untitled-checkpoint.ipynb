{
 "cells": [
  {
   "cell_type": "code",
   "execution_count": 7,
   "metadata": {},
   "outputs": [
    {
     "name": "stdout",
     "output_type": "stream",
     "text": [
      "List of functions for you to choose: \n",
      "Function 1: Print hello world \n",
      "Function 2. Print Hello + your name \n",
      "Function 3. Transfer temperature from Celsius to Fahrenheit \n",
      "Please choose the function No. you want: [The loop exits by pressing Enter]\n",
      "Thank you for using this Program！\n"
     ]
    }
   ],
   "source": [
    "#Function 1: Print \"hello world !\"\n",
    "def p01():\n",
    "    print('hello world!')\n",
    "    return\n",
    "\n",
    "#Function 2: Print \"Hello + Username !\"\n",
    "def p02_1():\n",
    "    username=input(\"Username: \")\n",
    "    print(\"Hello, \" + username +\"!\")\n",
    "    return\n",
    "\n",
    "#Function 3: Transfer temperature from Celsius to Fahrenheit\n",
    "def p02_2():\n",
    "    C=float(input(\"Temperature in Celsius: \"))\n",
    "    F = C * 1.8 + 32\n",
    "    print (\"The temperature in Fahrenheit is \"+ str(F))\n",
    "    return\n",
    "\n",
    "def main():\n",
    "    print(\"List of functions for you to choose: \")\n",
    "    print(\"Function 1: Print hello world \")\n",
    "    print(\"Function 2. Print Hello + your name \")\n",
    "    print(\"Function 3. Transfer temperature from Celsius to Fahrenheit \")\n",
    "\n",
    "\n",
    "while True:\n",
    "    try: \n",
    "        main()\n",
    "        n=int(input(\"Please choose the function No. you want: [The loop exits by pressing Enter]\"))\n",
    "        if n==1:\n",
    "            p01()\n",
    "        elif n==2:\n",
    "            p02_1()\n",
    "        elif n==3:\n",
    "            p02_2()\n",
    "    except:\n",
    "        break\n",
    "\n",
    "print(\"Thank you for using this Program！\")"
   ]
  },
  {
   "cell_type": "markdown",
   "metadata": {},
   "source": [
    "### What else can you make a function?\n",
    "\n",
    "`lambda`: A lambda function is a small anonymous function. It can take any number of arguments, but can only have one expression. Using lambda simplifies the code, however this may reduce the legibility of the code.\n",
    "\n",
    "#### For example:"
   ]
  },
  {
   "cell_type": "code",
   "execution_count": 8,
   "metadata": {},
   "outputs": [
    {
     "name": "stdout",
     "output_type": "stream",
     "text": [
      "30\n"
     ]
    }
   ],
   "source": [
    "x = lambda a,b : a*b\n",
    "print(x(5,6))"
   ]
  }
 ],
 "metadata": {
  "kernelspec": {
   "display_name": "Python 3",
   "language": "python",
   "name": "python3"
  },
  "language_info": {
   "codemirror_mode": {
    "name": "ipython",
    "version": 3
   },
   "file_extension": ".py",
   "mimetype": "text/x-python",
   "name": "python",
   "nbconvert_exporter": "python",
   "pygments_lexer": "ipython3",
   "version": "3.6.3"
  }
 },
 "nbformat": 4,
 "nbformat_minor": 2
}
